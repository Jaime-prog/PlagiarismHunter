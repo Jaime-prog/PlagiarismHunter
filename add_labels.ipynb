{
 "cells": [
  {
   "cell_type": "code",
   "execution_count": 8,
   "metadata": {},
   "outputs": [],
   "source": [
    "import pandas as pd\n",
    "import os\n",
    "from sklearn.feature_extraction.text import TfidfVectorizer\n",
    "from sklearn.metrics.pairwise import cosine_similarity\n",
    "import re"
   ]
  },
  {
   "cell_type": "code",
   "execution_count": 9,
   "metadata": {},
   "outputs": [],
   "source": [
    "# Preprocessing function\n",
    "def preprocess_java_code(code):\n",
    "    # Remove single-line comments\n",
    "    code = re.sub(r'//.*', '', code)\n",
    "    \n",
    "    # Remove multi-line comments\n",
    "    code = re.sub(r'/\\*.*?\\*/', '', code, flags=re.DOTALL)\n",
    "    \n",
    "    # Remove extra whitespace and line breaks\n",
    "    code = re.sub(r'\\s+', ' ', code).strip()\n",
    "    \n",
    "    return code"
   ]
  },
  {
   "cell_type": "code",
   "execution_count": 10,
   "metadata": {},
   "outputs": [],
   "source": [
    "# Path del dataset\n",
    "base_path = os.getcwd()\n",
    "codes_path = './Versions/version_2'\n",
    "base_path = os.path.realpath(base_path + codes_path)\n",
    "df = pd.DataFrame()"
   ]
  },
  {
   "cell_type": "code",
   "execution_count": 13,
   "metadata": {},
   "outputs": [
    {
     "name": "stdout",
     "output_type": "stream",
     "text": [
      "['0017d438_9852706b', '0017d438_ac180326', '0048a372_0adb1ee5', '00af3420_5449d33c', '00af3420_86102d81']\n"
     ]
    }
   ],
   "source": [
    "# Lista de carpetas en el dataset original\n",
    "folder_group = [name for name in os.listdir(codes_path) if os.path.isdir(os.path.join(codes_path, name))]\n",
    "print(folder_group[:5])"
   ]
  },
  {
   "cell_type": "code",
   "execution_count": 14,
   "metadata": {},
   "outputs": [],
   "source": [
    "data_list = []\n",
    "for folder in folder_group:\n",
    "    data_path = os.path.join(codes_path, folder)\n",
    "    files = os.listdir(data_path)\n",
    "    \n",
    "    for i in range(len(files)):\n",
    "        for j in range(i + 1, len(files)):\n",
    "            file1 = os.path.join(data_path, files[i])\n",
    "            file2 = os.path.join(data_path, files[j])\n",
    "            \n",
    "            with open(file1, 'r', encoding='utf-8') as f1, open(file2, 'r', encoding='utf-8') as f2:\n",
    "                code1 = f1.read()\n",
    "                code2 = f2.read()\n",
    "                \n",
    "                # Preprocess the Java code\n",
    "                code1 = preprocess_java_code(code1)\n",
    "                code2 = preprocess_java_code(code2)\n",
    "                \n",
    "                data_list.append({'name_file_1': files[i], 'java_code_1': code1, 'name_file_2': files[j], 'java_code_2': code2})\n",
    "\n",
    "# Convertir la lista de diccionarios en un DataFrame\n",
    "df = pd.DataFrame(data_list)"
   ]
  },
  {
   "cell_type": "code",
   "execution_count": 15,
   "metadata": {},
   "outputs": [],
   "source": [
    "def calculate_similarity(code1, code2):\n",
    "    vectorizer = TfidfVectorizer()\n",
    "    tfidf_matrix = vectorizer.fit_transform([code1, code2])\n",
    "    similarity = cosine_similarity(tfidf_matrix[0:1], tfidf_matrix[1:2])\n",
    "    return similarity[0][0]"
   ]
  },
  {
   "cell_type": "code",
   "execution_count": 16,
   "metadata": {},
   "outputs": [],
   "source": [
    "df['similarity'] = df.apply(lambda row: calculate_similarity(row['java_code_1'], row['java_code_2']), axis=1)\n"
   ]
  },
  {
   "cell_type": "code",
   "execution_count": 23,
   "metadata": {},
   "outputs": [
    {
     "name": "stdout",
     "output_type": "stream",
     "text": [
      "<class 'pandas.core.frame.DataFrame'>\n",
      "RangeIndex: 911 entries, 0 to 910\n",
      "Data columns (total 5 columns):\n",
      " #   Column       Non-Null Count  Dtype  \n",
      "---  ------       --------------  -----  \n",
      " 0   name_file_1  911 non-null    object \n",
      " 1   java_code_1  911 non-null    object \n",
      " 2   name_file_2  911 non-null    object \n",
      " 3   java_code_2  911 non-null    object \n",
      " 4   similarity   911 non-null    float64\n",
      "dtypes: float64(1), object(4)\n",
      "memory usage: 35.7+ KB\n",
      "None\n",
      "       similarity\n",
      "count  911.000000\n",
      "mean     0.557237\n",
      "std      0.193142\n",
      "min      0.061245\n",
      "25%      0.427955\n",
      "50%      0.531331\n",
      "75%      0.648113\n",
      "max      1.000000\n",
      "Index(['name_file_1', 'java_code_1', 'name_file_2', 'java_code_2',\n",
      "       'similarity'],\n",
      "      dtype='object')\n",
      "name_file_1     object\n",
      "java_code_1     object\n",
      "name_file_2     object\n",
      "java_code_2     object\n",
      "similarity     float64\n",
      "dtype: object\n"
     ]
    }
   ],
   "source": [
    "print(df.info())\n",
    "print(df.describe())\n",
    "print(df.columns)\n",
    "print(df.dtypes)"
   ]
  },
  {
   "cell_type": "code",
   "execution_count": 27,
   "metadata": {},
   "outputs": [
    {
     "name": "stdout",
     "output_type": "stream",
     "text": [
      "Estadísticas de la similitud entre los códigos:\n",
      "Media:  0.5572\n",
      "Desviación estándar:  0.1931\n",
      "Máximo:  1.0\n",
      "Mínimo:  0.0612\n",
      "Mediana:  0.5313\n"
     ]
    }
   ],
   "source": [
    "print(\"Estadísticas de la similitud entre los códigos:\")\n",
    "print(\"Media: \", round(df['similarity'].mean(), 4))\n",
    "print(\"Desviación estándar: \", round(df['similarity'].std(), 4))\n",
    "print(\"Máximo: \", round(df['similarity'].max(), 4))\n",
    "print(\"Mínimo: \", round(df['similarity'].min(), 4))\n",
    "print(\"Mediana: \", round(df['similarity'].median(), 4))"
   ]
  },
  {
   "cell_type": "code",
   "execution_count": 35,
   "metadata": {},
   "outputs": [
    {
     "data": {
      "text/html": [
       "<div>\n",
       "<style scoped>\n",
       "    .dataframe tbody tr th:only-of-type {\n",
       "        vertical-align: middle;\n",
       "    }\n",
       "\n",
       "    .dataframe tbody tr th {\n",
       "        vertical-align: top;\n",
       "    }\n",
       "\n",
       "    .dataframe thead th {\n",
       "        text-align: right;\n",
       "    }\n",
       "</style>\n",
       "<table border=\"1\" class=\"dataframe\">\n",
       "  <thead>\n",
       "    <tr style=\"text-align: right;\">\n",
       "      <th></th>\n",
       "      <th>name_file_1</th>\n",
       "      <th>name_file_2</th>\n",
       "      <th>problem</th>\n",
       "      <th>verdict</th>\n",
       "    </tr>\n",
       "  </thead>\n",
       "  <tbody>\n",
       "    <tr>\n",
       "      <th>0</th>\n",
       "      <td>0fd5b95a</td>\n",
       "      <td>6490bbe8</td>\n",
       "      <td>19</td>\n",
       "      <td>0</td>\n",
       "    </tr>\n",
       "    <tr>\n",
       "      <th>1</th>\n",
       "      <td>464a03b8</td>\n",
       "      <td>ff1fc018</td>\n",
       "      <td>20</td>\n",
       "      <td>0</td>\n",
       "    </tr>\n",
       "    <tr>\n",
       "      <th>2</th>\n",
       "      <td>3e6def38</td>\n",
       "      <td>548ffb07</td>\n",
       "      <td>14</td>\n",
       "      <td>1</td>\n",
       "    </tr>\n",
       "    <tr>\n",
       "      <th>3</th>\n",
       "      <td>0b91922c</td>\n",
       "      <td>71a4f6d2</td>\n",
       "      <td>6</td>\n",
       "      <td>0</td>\n",
       "    </tr>\n",
       "    <tr>\n",
       "      <th>4</th>\n",
       "      <td>9291ca83</td>\n",
       "      <td>d6fb3b9e</td>\n",
       "      <td>15</td>\n",
       "      <td>0</td>\n",
       "    </tr>\n",
       "    <tr>\n",
       "      <th>...</th>\n",
       "      <td>...</td>\n",
       "      <td>...</td>\n",
       "      <td>...</td>\n",
       "      <td>...</td>\n",
       "    </tr>\n",
       "    <tr>\n",
       "      <th>906</th>\n",
       "      <td>11c2ab99</td>\n",
       "      <td>28c2d81a</td>\n",
       "      <td>8</td>\n",
       "      <td>1</td>\n",
       "    </tr>\n",
       "    <tr>\n",
       "      <th>907</th>\n",
       "      <td>550335a3</td>\n",
       "      <td>6d7d5dd7</td>\n",
       "      <td>4</td>\n",
       "      <td>0</td>\n",
       "    </tr>\n",
       "    <tr>\n",
       "      <th>908</th>\n",
       "      <td>558df7d4</td>\n",
       "      <td>d8654140</td>\n",
       "      <td>17</td>\n",
       "      <td>0</td>\n",
       "    </tr>\n",
       "    <tr>\n",
       "      <th>909</th>\n",
       "      <td>3088ca9c</td>\n",
       "      <td>6f393cfe</td>\n",
       "      <td>15</td>\n",
       "      <td>1</td>\n",
       "    </tr>\n",
       "    <tr>\n",
       "      <th>910</th>\n",
       "      <td>213340b3</td>\n",
       "      <td>870e16d9</td>\n",
       "      <td>4</td>\n",
       "      <td>0</td>\n",
       "    </tr>\n",
       "  </tbody>\n",
       "</table>\n",
       "<p>911 rows × 4 columns</p>\n",
       "</div>"
      ],
      "text/plain": [
       "    name_file_1 name_file_2  problem  verdict\n",
       "0      0fd5b95a    6490bbe8       19        0\n",
       "1      464a03b8    ff1fc018       20        0\n",
       "2      3e6def38    548ffb07       14        1\n",
       "3      0b91922c    71a4f6d2        6        0\n",
       "4      9291ca83    d6fb3b9e       15        0\n",
       "..          ...         ...      ...      ...\n",
       "906    11c2ab99    28c2d81a        8        1\n",
       "907    550335a3    6d7d5dd7        4        0\n",
       "908    558df7d4    d8654140       17        0\n",
       "909    3088ca9c    6f393cfe       15        1\n",
       "910    213340b3    870e16d9        4        0\n",
       "\n",
       "[911 rows x 4 columns]"
      ]
     },
     "execution_count": 35,
     "metadata": {},
     "output_type": "execute_result"
    }
   ],
   "source": [
    "labels = pd.read_csv('./Versions/labels.csv')\n",
    "labels.rename(columns= {'sub1':'name_file_1', 'sub2':'name_file_2'}, inplace = True)\n",
    "labels"
   ]
  },
  {
   "cell_type": "code",
   "execution_count": 36,
   "metadata": {},
   "outputs": [],
   "source": [
    "df_temp= df.copy()"
   ]
  },
  {
   "cell_type": "code",
   "execution_count": 37,
   "metadata": {},
   "outputs": [],
   "source": [
    "df_labels = pd.merge(df, labels, on=['name_file_1', 'name_file_2'], how='left')"
   ]
  },
  {
   "cell_type": "code",
   "execution_count": 38,
   "metadata": {},
   "outputs": [],
   "source": [
    "df_plagios_detectados = df_labels[df_labels['verdict'] == 1]\n",
    "df_plagios_no_detectados = df_labels[df_labels['verdict'] == 0]"
   ]
  },
  {
   "cell_type": "code",
   "execution_count": 30,
   "metadata": {},
   "outputs": [
    {
     "data": {
      "text/html": [
       "<div>\n",
       "<style scoped>\n",
       "    .dataframe tbody tr th:only-of-type {\n",
       "        vertical-align: middle;\n",
       "    }\n",
       "\n",
       "    .dataframe tbody tr th {\n",
       "        vertical-align: top;\n",
       "    }\n",
       "\n",
       "    .dataframe thead th {\n",
       "        text-align: right;\n",
       "    }\n",
       "</style>\n",
       "<table border=\"1\" class=\"dataframe\">\n",
       "  <thead>\n",
       "    <tr style=\"text-align: right;\">\n",
       "      <th></th>\n",
       "      <th>Name1</th>\n",
       "      <th>Code1</th>\n",
       "      <th>Name2</th>\n",
       "      <th>Code2</th>\n",
       "      <th>Similitud</th>\n",
       "      <th>problem</th>\n",
       "      <th>verdict</th>\n",
       "    </tr>\n",
       "  </thead>\n",
       "  <tbody>\n",
       "    <tr>\n",
       "      <th>0</th>\n",
       "      <td>0017d438</td>\n",
       "      <td>import java.io.BufferedReader;\\nimport java.io...</td>\n",
       "      <td>9852706b</td>\n",
       "      <td>import java.io.BufferedReader;\\nimport java.io...</td>\n",
       "      <td>0.659862</td>\n",
       "      <td>9</td>\n",
       "      <td>1</td>\n",
       "    </tr>\n",
       "    <tr>\n",
       "      <th>18</th>\n",
       "      <td>034030f3</td>\n",
       "      <td>import java.util.*;\\nimport java.io.*;\\n\\npubl...</td>\n",
       "      <td>bf992c91</td>\n",
       "      <td>import java.util.Arrays;\\nimport java.util.Sca...</td>\n",
       "      <td>0.599190</td>\n",
       "      <td>19</td>\n",
       "      <td>1</td>\n",
       "    </tr>\n",
       "    <tr>\n",
       "      <th>21</th>\n",
       "      <td>04df7bb8</td>\n",
       "      <td>import java.math.BigInteger;\\n\\t\\t\\t\\t\\t\\t\\t\\t...</td>\n",
       "      <td>1ea771ea</td>\n",
       "      <td>import java.io.*;\\nimport java.util.*;\\n\\n\\npu...</td>\n",
       "      <td>0.512458</td>\n",
       "      <td>8</td>\n",
       "      <td>1</td>\n",
       "    </tr>\n",
       "    <tr>\n",
       "      <th>22</th>\n",
       "      <td>04df7bb8</td>\n",
       "      <td>import java.math.BigInteger;\\n\\t\\t\\t\\t\\t\\t\\t\\t...</td>\n",
       "      <td>85125ecb</td>\n",
       "      <td>import java.io.*;\\nimport java.util.Arrays;\\ni...</td>\n",
       "      <td>0.521808</td>\n",
       "      <td>8</td>\n",
       "      <td>1</td>\n",
       "    </tr>\n",
       "    <tr>\n",
       "      <th>23</th>\n",
       "      <td>04df7bb8</td>\n",
       "      <td>import java.math.BigInteger;\\n\\t\\t\\t\\t\\t\\t\\t\\t...</td>\n",
       "      <td>aaccc000</td>\n",
       "      <td>import java.io.*;\\nimport java.util.*;\\n\\npubl...</td>\n",
       "      <td>0.553364</td>\n",
       "      <td>8</td>\n",
       "      <td>1</td>\n",
       "    </tr>\n",
       "  </tbody>\n",
       "</table>\n",
       "</div>"
      ],
      "text/plain": [
       "       Name1                                              Code1     Name2  \\\n",
       "0   0017d438  import java.io.BufferedReader;\\nimport java.io...  9852706b   \n",
       "18  034030f3  import java.util.*;\\nimport java.io.*;\\n\\npubl...  bf992c91   \n",
       "21  04df7bb8  import java.math.BigInteger;\\n\\t\\t\\t\\t\\t\\t\\t\\t...  1ea771ea   \n",
       "22  04df7bb8  import java.math.BigInteger;\\n\\t\\t\\t\\t\\t\\t\\t\\t...  85125ecb   \n",
       "23  04df7bb8  import java.math.BigInteger;\\n\\t\\t\\t\\t\\t\\t\\t\\t...  aaccc000   \n",
       "\n",
       "                                                Code2  Similitud  problem  \\\n",
       "0   import java.io.BufferedReader;\\nimport java.io...   0.659862        9   \n",
       "18  import java.util.Arrays;\\nimport java.util.Sca...   0.599190       19   \n",
       "21  import java.io.*;\\nimport java.util.*;\\n\\n\\npu...   0.512458        8   \n",
       "22  import java.io.*;\\nimport java.util.Arrays;\\ni...   0.521808        8   \n",
       "23  import java.io.*;\\nimport java.util.*;\\n\\npubl...   0.553364        8   \n",
       "\n",
       "    verdict  \n",
       "0         1  \n",
       "18        1  \n",
       "21        1  \n",
       "22        1  \n",
       "23        1  "
      ]
     },
     "execution_count": 30,
     "metadata": {},
     "output_type": "execute_result"
    }
   ],
   "source": [
    "df_plagios_detectados.head()"
   ]
  },
  {
   "cell_type": "code",
   "execution_count": 39,
   "metadata": {},
   "outputs": [],
   "source": [
    "df_plagios_detectados.to_csv('codigos_plagio.csv', index=False)\n",
    "df_plagios_no_detectados.to_csv('codigos_no_plagio.csv', index=False)"
   ]
  }
 ],
 "metadata": {
  "kernelspec": {
   "display_name": "Python 3",
   "language": "python",
   "name": "python3"
  },
  "language_info": {
   "codemirror_mode": {
    "name": "ipython",
    "version": 3
   },
   "file_extension": ".py",
   "mimetype": "text/x-python",
   "name": "python",
   "nbconvert_exporter": "python",
   "pygments_lexer": "ipython3",
   "version": "3.12.0"
  }
 },
 "nbformat": 4,
 "nbformat_minor": 2
}
