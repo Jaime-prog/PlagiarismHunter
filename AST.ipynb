{
 "cells": [
  {
   "cell_type": "code",
   "execution_count": 19,
   "metadata": {},
   "outputs": [
    {
     "name": "stdout",
     "output_type": "stream",
     "text": [
      "Los códigos son similares con una distancia de edición de 0.\n"
     ]
    }
   ],
   "source": [
    "import javalang\n",
    "import hashlib\n",
    "\n",
    "# Function to generate the AST\n",
    "def generate_ast(java_code):\n",
    "    tokens = javalang.tokenizer.tokenize(java_code)\n",
    "    parser = javalang.parser.Parser(tokens)\n",
    "    tree = parser.parse()\n",
    "    return tree\n",
    "\n",
    "# Function to normalize AST by converting identifiers to a standard form\n",
    "def normalize_ast(node):\n",
    "    if isinstance(node, javalang.ast.Node):\n",
    "        normalized_node = {\n",
    "            'type': type(node).__name__,\n",
    "            'attributes': {},\n",
    "            'children': []\n",
    "        }\n",
    "        for attr, value in node.__dict__.items():\n",
    "            if isinstance(value, list):\n",
    "                normalized_node['children'].extend([normalize_ast(child) for child in value if isinstance(child, javalang.ast.Node)])\n",
    "            elif isinstance(value, javalang.ast.Node):\n",
    "                normalized_node['children'].append(normalize_ast(value))\n",
    "            else:\n",
    "                # Normalize identifiers and literals\n",
    "                if attr in ('name', 'value'):\n",
    "                    normalized_node['attributes'][attr] = 'normalized'\n",
    "                else:\n",
    "                    normalized_node['attributes'][attr] = value\n",
    "        return normalized_node\n",
    "    return str(node)\n",
    "\n",
    "# Function to calculate tree edit distance\n",
    "def tree_edit_distance(tree1, tree2):\n",
    "    # Placeholder for a robust tree edit distance calculation\n",
    "    # This could be implemented using an external library or a custom algorithm\n",
    "    if tree1 == tree2:\n",
    "        return 0\n",
    "    else:\n",
    "        return float('inf')\n",
    "\n",
    "# Example usage\n",
    "java_code_example1 = \"\"\"\n",
    "public class HelloWorld {\n",
    "    public static void main(String[] args) {\n",
    "        System.out.println(\"Hello, World!\");\n",
    "    }\n",
    "}\n",
    "\"\"\"\n",
    "\n",
    "java_code_example2 = \"\"\"\n",
    "public class GreetingApp {\n",
    "    public static void main(String[] args) {\n",
    "        System.out.println(\"¡Hola, mundo!\");\n",
    "    }\n",
    "}\n",
    "\"\"\"\n",
    "\n",
    "ast1 = generate_ast(java_code_example1)\n",
    "ast2 = generate_ast(java_code_example2)\n",
    "ast1_normalized = normalize_ast(ast1)\n",
    "ast2_normalized = normalize_ast(ast2)\n",
    "\n",
    "# Calculate the tree edit distance (assuming a placeholder implementation)\n",
    "distance = tree_edit_distance(ast1_normalized, ast2_normalized)\n",
    "threshold = 15  # Example threshold for similarity\n",
    "similar = distance <= threshold\n",
    "\n",
    "print(f\"Los códigos son {'similares' if similar else 'diferentes'} con una distancia de edición de {distance}.\")\n"
   ]
  }
 ],
 "metadata": {
  "kernelspec": {
   "display_name": "Python 3",
   "language": "python",
   "name": "python3"
  },
  "language_info": {
   "codemirror_mode": {
    "name": "ipython",
    "version": 3
   },
   "file_extension": ".py",
   "mimetype": "text/x-python",
   "name": "python",
   "nbconvert_exporter": "python",
   "pygments_lexer": "ipython3",
   "version": "3.12.0"
  }
 },
 "nbformat": 4,
 "nbformat_minor": 2
}
