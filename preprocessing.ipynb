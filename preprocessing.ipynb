{
 "cells": [
  {
   "cell_type": "code",
   "execution_count": 2,
   "metadata": {},
   "outputs": [],
   "source": [
    "# Importar librerias\n",
    "import os\n",
    "import json\n",
    "import javalang"
   ]
  },
  {
   "cell_type": "code",
   "execution_count": 3,
   "metadata": {},
   "outputs": [],
   "source": [
    "def collect_java_files(base_path):\n",
    "    \"\"\"Recopila todos los archivos Java en el directorio base y sus subdirectorios.\"\"\"\n",
    "    java_files = []\n",
    "    for root, _, files in os.walk(base_path):\n",
    "        for file in files:\n",
    "            if file.endswith(\".java\"):\n",
    "                java_files.append(os.path.join(root, file))\n",
    "    return java_files\n",
    "\n"
   ]
  },
  {
   "cell_type": "code",
   "execution_count": 4,
   "metadata": {},
   "outputs": [],
   "source": [
    "def generate_ast(java_file_path):\n",
    "    \"\"\"Genera un Árbol de Sintaxis Abstracta (AST) a partir de un archivo Java.\"\"\"\n",
    "    with open(java_file_path, 'r') as file:\n",
    "        java_code = file.read()\n",
    "    tokens = javalang.tokenizer.tokenize(java_code)\n",
    "    parser = javalang.parser.Parser(tokens)\n",
    "    return parser.parse()"
   ]
  },
  {
   "cell_type": "code",
   "execution_count": 5,
   "metadata": {},
   "outputs": [],
   "source": [
    "def ast_to_dict(node):\n",
    "    \"\"\"Convierte un AST a un diccionario.\"\"\"\n",
    "    if isinstance(node, javalang.ast.Node):\n",
    "        return {\n",
    "            'type': type(node).__name__,\n",
    "            'attributes': {key: ast_to_dict(value) for key, value in node.attrs.items() if value is not None},\n",
    "            'children': [ast_to_dict(child) for child in node.children if child is not None]\n",
    "        }\n",
    "    elif isinstance(node, list):\n",
    "        return [ast_to_dict(child) for child in node]\n",
    "    else:\n",
    "        return node\n",
    "\n"
   ]
  },
  {
   "cell_type": "code",
   "execution_count": 6,
   "metadata": {},
   "outputs": [],
   "source": [
    "def save_ast(ast, output_path):\n",
    "    \"\"\"Guarda un AST en formato JSON.\"\"\"\n",
    "    ast_dict = ast_to_dict(ast)\n",
    "    os.makedirs(os.path.dirname(output_path), exist_ok=True)\n",
    "    with open(output_path, 'w') as file:\n",
    "        json.dump(ast_dict, file, indent=2)\n",
    "\n"
   ]
  },
  {
   "cell_type": "code",
   "execution_count": 7,
   "metadata": {},
   "outputs": [],
   "source": [
    "def preprocess_dataset(base_path, output_dir):\n",
    "    \"\"\"Preprocesa el dataset convirtiendo archivos Java en ASTs y guardándolos en formato JSON.\"\"\"\n",
    "    java_files = collect_java_files(base_path)\n",
    "    for java_file in java_files:\n",
    "        try:\n",
    "            ast = generate_ast(java_file)\n",
    "            relative_path = os.path.relpath(java_file, base_path)\n",
    "            output_path = os.path.join(output_dir, f\"{relative_path}.json\")\n",
    "            save_ast(ast, output_path)\n",
    "            print(f\"Procesado: {java_file}\")\n",
    "        except Exception as e:\n",
    "            print(f\"Error procesando {java_file}: {e}\")"
   ]
  },
  {
   "cell_type": "code",
   "execution_count": 8,
   "metadata": {},
   "outputs": [],
   "source": [
    "base_path = '/mnt/data/ConPlag/versions/bplag_version_1/'\n",
    "output_dir = '/mnt/data/ConPlag/preprocessed_ast/'\n",
    "preprocess_dataset(base_path, output_dir)"
   ]
  }
 ],
 "metadata": {
  "kernelspec": {
   "display_name": "Python 3",
   "language": "python",
   "name": "python3"
  },
  "language_info": {
   "codemirror_mode": {
    "name": "ipython",
    "version": 3
   },
   "file_extension": ".py",
   "mimetype": "text/x-python",
   "name": "python",
   "nbconvert_exporter": "python",
   "pygments_lexer": "ipython3",
   "version": "3.12.0"
  }
 },
 "nbformat": 4,
 "nbformat_minor": 2
}
